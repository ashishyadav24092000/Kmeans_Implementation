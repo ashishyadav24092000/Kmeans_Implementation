{
 "cells": [
  {
   "cell_type": "markdown",
   "id": "8e8bbb40",
   "metadata": {},
   "source": [
    "## K-Means Clustering ALgortihm -----> Unsupervised ML Algorithm"
   ]
  },
  {
   "cell_type": "code",
   "execution_count": 1,
   "id": "3580f585",
   "metadata": {},
   "outputs": [],
   "source": [
    "## importing libraries\n",
    "import pandas as pd\n",
    "import numpy as np\n",
    "import matplotlib.pyplot as plt\n",
    "from sklearn.cluster import KMeans\n",
    "%matplotlib inline"
   ]
  },
  {
   "cell_type": "code",
   "execution_count": 2,
   "id": "50222e1d",
   "metadata": {},
   "outputs": [
    {
     "data": {
      "text/plain": [
       "array([[-0.78539005, -0.88340363],\n",
       "       [-1.79854296, -1.45180658],\n",
       "       [-0.50942122, -0.28603769],\n",
       "       [-0.38089629, -1.80580787],\n",
       "       [-0.39508546, -0.77300083],\n",
       "       [-0.37397286, -0.54055099],\n",
       "       [-0.26010674, -1.54328514],\n",
       "       [-0.44006175, -1.26352809],\n",
       "       [-1.76372076, -0.28441506],\n",
       "       [-1.04957625, -0.72254387],\n",
       "       [-0.36503777, -0.83508176],\n",
       "       [-0.42016249, -1.58364882],\n",
       "       [-0.74306614, -0.12610327],\n",
       "       [-1.91622185, -1.08867704],\n",
       "       [-1.93848502, -0.00528721],\n",
       "       [-0.15913178, -1.85740762],\n",
       "       [-1.83997666, -0.76844071],\n",
       "       [-1.69883921, -1.96215814],\n",
       "       [-0.67649966, -1.15818957],\n",
       "       [-0.6724711 , -1.20661271],\n",
       "       [-0.09164072, -1.78356211],\n",
       "       [-1.83444664, -0.35575822],\n",
       "       [-0.87286118, -0.5081546 ],\n",
       "       [-0.32561216, -1.83329453],\n",
       "       [-1.13770047, -0.32922265],\n",
       "       [-0.52119538, -1.10608563],\n",
       "       [-1.10712736, -1.78343938],\n",
       "       [-1.01773076, -0.56330669],\n",
       "       [-0.01850772, -0.07363635],\n",
       "       [-1.58369913, -1.87149679],\n",
       "       [-0.07586025, -1.32272172],\n",
       "       [-1.76693051, -0.89710114],\n",
       "       [-1.66226121, -1.34216227],\n",
       "       [-0.0260913 , -1.81469806],\n",
       "       [-0.71772372, -1.7431642 ],\n",
       "       [-0.78483658, -1.03979614],\n",
       "       [-1.09157251, -1.19514957],\n",
       "       [-0.16460992, -1.64567783],\n",
       "       [-0.40918753, -1.38770613],\n",
       "       [-0.10650179, -0.49575722],\n",
       "       [-1.16088304, -0.97159153],\n",
       "       [-1.17417735, -1.4835832 ],\n",
       "       [-1.49570311, -0.53741461],\n",
       "       [-1.08825295, -1.75463196],\n",
       "       [-0.87253883, -1.99276697],\n",
       "       [-1.20810479, -0.46213171],\n",
       "       [-1.59831642, -0.93803873],\n",
       "       [-0.96521136, -1.6293381 ],\n",
       "       [-1.84232752, -0.08556623],\n",
       "       [-0.49040855, -0.02281376],\n",
       "       [-1.7665727 , -1.49836371],\n",
       "       [-1.87776742, -0.43882142],\n",
       "       [-1.38419307, -0.03681096],\n",
       "       [-0.57107215, -1.47619998],\n",
       "       [-0.61844029, -0.85446513],\n",
       "       [-0.86637768, -1.83733644],\n",
       "       [-1.59717787, -0.82209802],\n",
       "       [-0.91262028, -0.3634485 ],\n",
       "       [-0.26017686, -1.05574233],\n",
       "       [-1.0903175 , -1.35605899],\n",
       "       [-0.66747143, -1.06856828],\n",
       "       [-0.96675322, -1.11523412],\n",
       "       [-1.71528577, -1.49496418],\n",
       "       [-1.4476276 , -1.19184885],\n",
       "       [-0.39750076, -1.67581037],\n",
       "       [-1.38096517, -0.29030573],\n",
       "       [-0.06276892, -1.99114846],\n",
       "       [-1.13480874, -1.26699444],\n",
       "       [-0.96406699, -1.6331289 ],\n",
       "       [-0.18704585, -1.83406448],\n",
       "       [-0.56558355, -0.16968916],\n",
       "       [-1.47441509, -1.2164742 ],\n",
       "       [-1.13736996, -1.73450434],\n",
       "       [-0.6935789 , -1.0118188 ],\n",
       "       [-0.44628171, -1.99471346],\n",
       "       [-0.36788137, -0.57668699],\n",
       "       [-0.63110475, -0.28580327],\n",
       "       [-1.19568204, -1.57279602],\n",
       "       [-0.54219283, -1.08468555],\n",
       "       [-0.92723249, -0.7124628 ],\n",
       "       [-0.14888209, -0.74109057],\n",
       "       [-1.41622747, -0.47597585],\n",
       "       [-0.32100131, -0.63476342],\n",
       "       [-0.77787618, -1.8989005 ],\n",
       "       [-0.51433332, -0.35869456],\n",
       "       [-1.69355081, -0.66783406],\n",
       "       [-0.20357357, -1.19583396],\n",
       "       [-0.47480882, -1.94859088],\n",
       "       [-0.90729218, -1.67169476],\n",
       "       [-1.72554001, -1.84797182],\n",
       "       [-0.53737961, -1.79158948],\n",
       "       [-1.8312988 , -0.4208666 ],\n",
       "       [-0.01933298, -0.2077099 ],\n",
       "       [-0.3026199 , -0.99206544],\n",
       "       [-0.60406835, -0.64318728],\n",
       "       [-1.50600814, -1.23408592],\n",
       "       [-0.39062473, -0.26746637],\n",
       "       [-0.56697419, -0.02774362],\n",
       "       [-1.70242918, -1.92930523],\n",
       "       [-1.76810088, -0.7469578 ]])"
      ]
     },
     "execution_count": 2,
     "metadata": {},
     "output_type": "execute_result"
    }
   ],
   "source": [
    "## generating some random data\n",
    "\n",
    "x = -2*np.random.rand(100,2)  ## returns ndarray of shape (100,2) containg Random values.\n",
    "x"
   ]
  },
  {
   "cell_type": "code",
   "execution_count": 3,
   "id": "41be49c9",
   "metadata": {},
   "outputs": [
    {
     "data": {
      "text/plain": [
       "array([[1.02632908, 1.81757512],\n",
       "       [1.94969718, 1.94337219],\n",
       "       [1.10797683, 1.2191241 ],\n",
       "       [2.8884126 , 2.10122238],\n",
       "       [2.0793499 , 2.19497324],\n",
       "       [2.40269158, 1.09581109],\n",
       "       [1.66318853, 1.32664279],\n",
       "       [2.20945382, 1.08434695],\n",
       "       [2.4448716 , 1.66262117],\n",
       "       [2.99902975, 2.96481357],\n",
       "       [2.19177195, 2.26673203],\n",
       "       [1.34945399, 2.18734591],\n",
       "       [1.34621394, 2.41051829],\n",
       "       [2.12716384, 1.05887988],\n",
       "       [1.91529615, 1.95258718],\n",
       "       [2.82373481, 1.66330393],\n",
       "       [1.95380506, 1.39029121],\n",
       "       [1.38849639, 2.01077781],\n",
       "       [2.97850714, 1.90676602],\n",
       "       [2.30622929, 1.25776609],\n",
       "       [1.71438387, 2.96575476],\n",
       "       [1.62360953, 1.52628061],\n",
       "       [2.22961789, 1.23840125],\n",
       "       [2.25020927, 2.42303729],\n",
       "       [1.44883697, 2.16490161],\n",
       "       [1.63187989, 2.90065659],\n",
       "       [1.39564217, 1.17518814],\n",
       "       [2.64171066, 2.38104497],\n",
       "       [2.69804439, 2.66926731],\n",
       "       [1.29248338, 1.20110023],\n",
       "       [1.73805874, 2.89774539],\n",
       "       [2.54438373, 1.88766389],\n",
       "       [1.56231869, 2.77660708],\n",
       "       [1.24944724, 2.3751509 ],\n",
       "       [1.97343316, 2.88404666],\n",
       "       [2.72185831, 2.93639161],\n",
       "       [1.47918777, 1.45996702],\n",
       "       [1.82687851, 2.6231816 ],\n",
       "       [1.00678404, 1.539054  ],\n",
       "       [2.78665441, 1.11896322],\n",
       "       [2.20115042, 2.33369283],\n",
       "       [1.35150828, 2.41699439],\n",
       "       [2.12671822, 2.83732145],\n",
       "       [1.7273554 , 2.49300781],\n",
       "       [2.8844673 , 2.30895364],\n",
       "       [1.21087797, 1.51916321],\n",
       "       [2.14490943, 1.08232829],\n",
       "       [1.05231555, 2.71659036],\n",
       "       [1.66726369, 2.23165146],\n",
       "       [2.70922282, 1.61877669]])"
      ]
     },
     "execution_count": 3,
     "metadata": {},
     "output_type": "execute_result"
    }
   ],
   "source": [
    "x1 = 1+2*np.random.rand(50,2)\n",
    "x1"
   ]
  },
  {
   "cell_type": "code",
   "execution_count": 4,
   "id": "c2a2e42b",
   "metadata": {},
   "outputs": [
    {
     "data": {
      "text/plain": [
       "array([[-0.78539005, -0.88340363],\n",
       "       [-1.79854296, -1.45180658],\n",
       "       [-0.50942122, -0.28603769],\n",
       "       [-0.38089629, -1.80580787],\n",
       "       [-0.39508546, -0.77300083],\n",
       "       [-0.37397286, -0.54055099],\n",
       "       [-0.26010674, -1.54328514],\n",
       "       [-0.44006175, -1.26352809],\n",
       "       [-1.76372076, -0.28441506],\n",
       "       [-1.04957625, -0.72254387],\n",
       "       [-0.36503777, -0.83508176],\n",
       "       [-0.42016249, -1.58364882],\n",
       "       [-0.74306614, -0.12610327],\n",
       "       [-1.91622185, -1.08867704],\n",
       "       [-1.93848502, -0.00528721],\n",
       "       [-0.15913178, -1.85740762],\n",
       "       [-1.83997666, -0.76844071],\n",
       "       [-1.69883921, -1.96215814],\n",
       "       [-0.67649966, -1.15818957],\n",
       "       [-0.6724711 , -1.20661271],\n",
       "       [-0.09164072, -1.78356211],\n",
       "       [-1.83444664, -0.35575822],\n",
       "       [-0.87286118, -0.5081546 ],\n",
       "       [-0.32561216, -1.83329453],\n",
       "       [-1.13770047, -0.32922265],\n",
       "       [-0.52119538, -1.10608563],\n",
       "       [-1.10712736, -1.78343938],\n",
       "       [-1.01773076, -0.56330669],\n",
       "       [-0.01850772, -0.07363635],\n",
       "       [-1.58369913, -1.87149679],\n",
       "       [-0.07586025, -1.32272172],\n",
       "       [-1.76693051, -0.89710114],\n",
       "       [-1.66226121, -1.34216227],\n",
       "       [-0.0260913 , -1.81469806],\n",
       "       [-0.71772372, -1.7431642 ],\n",
       "       [-0.78483658, -1.03979614],\n",
       "       [-1.09157251, -1.19514957],\n",
       "       [-0.16460992, -1.64567783],\n",
       "       [-0.40918753, -1.38770613],\n",
       "       [-0.10650179, -0.49575722],\n",
       "       [-1.16088304, -0.97159153],\n",
       "       [-1.17417735, -1.4835832 ],\n",
       "       [-1.49570311, -0.53741461],\n",
       "       [-1.08825295, -1.75463196],\n",
       "       [-0.87253883, -1.99276697],\n",
       "       [-1.20810479, -0.46213171],\n",
       "       [-1.59831642, -0.93803873],\n",
       "       [-0.96521136, -1.6293381 ],\n",
       "       [-1.84232752, -0.08556623],\n",
       "       [-0.49040855, -0.02281376],\n",
       "       [ 1.02632908,  1.81757512],\n",
       "       [ 1.94969718,  1.94337219],\n",
       "       [ 1.10797683,  1.2191241 ],\n",
       "       [ 2.8884126 ,  2.10122238],\n",
       "       [ 2.0793499 ,  2.19497324],\n",
       "       [ 2.40269158,  1.09581109],\n",
       "       [ 1.66318853,  1.32664279],\n",
       "       [ 2.20945382,  1.08434695],\n",
       "       [ 2.4448716 ,  1.66262117],\n",
       "       [ 2.99902975,  2.96481357],\n",
       "       [ 2.19177195,  2.26673203],\n",
       "       [ 1.34945399,  2.18734591],\n",
       "       [ 1.34621394,  2.41051829],\n",
       "       [ 2.12716384,  1.05887988],\n",
       "       [ 1.91529615,  1.95258718],\n",
       "       [ 2.82373481,  1.66330393],\n",
       "       [ 1.95380506,  1.39029121],\n",
       "       [ 1.38849639,  2.01077781],\n",
       "       [ 2.97850714,  1.90676602],\n",
       "       [ 2.30622929,  1.25776609],\n",
       "       [ 1.71438387,  2.96575476],\n",
       "       [ 1.62360953,  1.52628061],\n",
       "       [ 2.22961789,  1.23840125],\n",
       "       [ 2.25020927,  2.42303729],\n",
       "       [ 1.44883697,  2.16490161],\n",
       "       [ 1.63187989,  2.90065659],\n",
       "       [ 1.39564217,  1.17518814],\n",
       "       [ 2.64171066,  2.38104497],\n",
       "       [ 2.69804439,  2.66926731],\n",
       "       [ 1.29248338,  1.20110023],\n",
       "       [ 1.73805874,  2.89774539],\n",
       "       [ 2.54438373,  1.88766389],\n",
       "       [ 1.56231869,  2.77660708],\n",
       "       [ 1.24944724,  2.3751509 ],\n",
       "       [ 1.97343316,  2.88404666],\n",
       "       [ 2.72185831,  2.93639161],\n",
       "       [ 1.47918777,  1.45996702],\n",
       "       [ 1.82687851,  2.6231816 ],\n",
       "       [ 1.00678404,  1.539054  ],\n",
       "       [ 2.78665441,  1.11896322],\n",
       "       [ 2.20115042,  2.33369283],\n",
       "       [ 1.35150828,  2.41699439],\n",
       "       [ 2.12671822,  2.83732145],\n",
       "       [ 1.7273554 ,  2.49300781],\n",
       "       [ 2.8844673 ,  2.30895364],\n",
       "       [ 1.21087797,  1.51916321],\n",
       "       [ 2.14490943,  1.08232829],\n",
       "       [ 1.05231555,  2.71659036],\n",
       "       [ 1.66726369,  2.23165146],\n",
       "       [ 2.70922282,  1.61877669]])"
      ]
     },
     "execution_count": 4,
     "metadata": {},
     "output_type": "execute_result"
    }
   ],
   "source": [
    "## A total of 100 data points has been generated and divided into two groups, of 50 points each.\n",
    "x[50:100,:] = x1\n",
    "x"
   ]
  },
  {
   "cell_type": "code",
   "execution_count": 5,
   "id": "46ccd04b",
   "metadata": {},
   "outputs": [
    {
     "data": {
      "image/png": "[encoded data removed]",
      "text/plain": [
       "<Figure size 432x288 with 1 Axes>"
      ]
     },
     "metadata": {
      "needs_background": "light"
     },
     "output_type": "display_data"
    }
   ],
   "source": [
    "## plotting all the points (x,y)\n",
    "## s--->  The marker size in points**2\n",
    "## c ----> marker color\n",
    "plt.scatter(x[:,0],x[:,1],s=50,c='r')\n",
    "plt.show()"
   ]
  },
  {
   "cell_type": "code",
   "execution_count": 6,
   "id": "a3409e5a",
   "metadata": {},
   "outputs": [
    {
     "data": {
      "text/plain": [
       "KMeans(n_clusters=2)"
      ]
     },
     "execution_count": 6,
     "metadata": {},
     "output_type": "execute_result"
    }
   ],
   "source": [
    "##  modelling\n",
    "kmean = KMeans(n_clusters=2)  ## randomly initialising k=2 or no. of clusters=2\n",
    "kmean.fit(x)"
   ]
  },
  {
   "cell_type": "code",
   "execution_count": 8,
   "id": "84acf032",
   "metadata": {},
   "outputs": [
    {
     "name": "stdout",
     "output_type": "stream",
     "text": [
      "[[-0.90797374 -1.06231509]\n",
      " [ 1.9608577   2.0043671 ]]\n"
     ]
    }
   ],
   "source": [
    "## displaying the centroids for k=2\n",
    "print(kmean.cluster_centers_)"
   ]
  },
  {
   "cell_type": "code",
   "execution_count": 12,
   "id": "b03f29d8",
   "metadata": {},
   "outputs": [
    {
     "data": {
      "text/plain": [
       "<matplotlib.collections.PathCollection at 0x7f9e36113400>"
      ]
     },
     "execution_count": 12,
     "metadata": {},
     "output_type": "execute_result"
    },
    {
     "data": {
      "image/png": "[encoded data removed]",
      "text/plain": [
       "<Figure size 432x288 with 1 Axes>"
      ]
     },
     "metadata": {
      "needs_background": "light"
     },
     "output_type": "display_data"
    }
   ],
   "source": [
    "## displaying the centroids with different colors\n",
    "plt.scatter(x[:,0],x[:,1],c='b',s=50,marker='*')\n",
    "\n",
    "centroid1 = kmean.cluster_centers_[0]\n",
    "centroid2 = kmean.cluster_centers_[1]\n",
    "plt.scatter(centroid1[0],centroid1[1],c='g',s=100,marker='o')\n",
    "plt.scatter(centroid2[0],centroid2[1],c='r',s=100,marker='o')"
   ]
  },
  {
   "cell_type": "code",
   "execution_count": 14,
   "id": "307b2890",
   "metadata": {},
   "outputs": [
    {
     "data": {
      "text/plain": [
       "array([0, 0, 0, 0, 0, 0, 0, 0, 0, 0, 0, 0, 0, 0, 0, 0, 0, 0, 0, 0, 0, 0,\n",
       "       0, 0, 0, 0, 0, 0, 0, 0, 0, 0, 0, 0, 0, 0, 0, 0, 0, 0, 0, 0, 0, 0,\n",
       "       0, 0, 0, 0, 0, 0, 1, 1, 1, 1, 1, 1, 1, 1, 1, 1, 1, 1, 1, 1, 1, 1,\n",
       "       1, 1, 1, 1, 1, 1, 1, 1, 1, 1, 1, 1, 1, 1, 1, 1, 1, 1, 1, 1, 1, 1,\n",
       "       1, 1, 1, 1, 1, 1, 1, 1, 1, 1, 1, 1], dtype=int32)"
      ]
     },
     "execution_count": 14,
     "metadata": {},
     "output_type": "execute_result"
    }
   ],
   "source": [
    "##  Testing the algorithm -->or getting the labels property of the K-means clustering example dataset; that is, how the data points are categorized into the two clusters.\n",
    "kmean.labels_"
   ]
  },
  {
   "cell_type": "markdown",
   "id": "6b559399",
   "metadata": {},
   "source": [
    "## SO::\n",
    "    50 data points belong to the 0 (green-centroid) cluster while the rest belong to 1 the (red-centroid) cluster."
   ]
  },
  {
   "cell_type": "code",
   "execution_count": 15,
   "id": "ab64fbed",
   "metadata": {},
   "outputs": [
    {
     "name": "stdout",
     "output_type": "stream",
     "text": [
      "[-3. -3.]\n",
      "[[-3. -3.]]\n"
     ]
    }
   ],
   "source": [
    "sample_test_pt = np.array([-3.0,-3.0])\n",
    "print(sample_test_pt)\n",
    "sample_test_pt2 = sample_test_pt.reshape(1,-1)\n",
    "print(sample_test_pt2)"
   ]
  },
  {
   "cell_type": "code",
   "execution_count": 16,
   "id": "42f656f6",
   "metadata": {},
   "outputs": [
    {
     "data": {
      "text/plain": [
       "array([0], dtype=int32)"
      ]
     },
     "execution_count": 16,
     "metadata": {},
     "output_type": "execute_result"
    }
   ],
   "source": [
    "kmean.predict(sample_test_pt2)"
   ]
  },
  {
   "cell_type": "markdown",
   "id": "174ebd1c",
   "metadata": {},
   "source": [
    "## It implies::\n",
    "    that the sample points belong to the 0 cluster or (green-centroid) cluster"
   ]
  }
 ],
 "metadata": {
  "kernelspec": {
   "display_name": "Python 3",
   "language": "python",
   "name": "python3"
  },
  "language_info": {
   "codemirror_mode": {
    "name": "ipython",
    "version": 3
   },
   "file_extension": ".py",
   "mimetype": "text/x-python",
   "name": "python",
   "nbconvert_exporter": "python",
   "pygments_lexer": "ipython3",
   "version": "3.8.8"
  }
 },
 "nbformat": 4,
 "nbformat_minor": 5
}
